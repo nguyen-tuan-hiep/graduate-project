{
 "cells": [
  {
   "cell_type": "code",
   "execution_count": 1,
   "metadata": {},
   "outputs": [],
   "source": [
    "import pandas as pd\n",
    "import numpy as np\n",
    "import matplotlib.pyplot as plt\n",
    "import seaborn as sns\n",
    "%matplotlib inline"
   ]
  },
  {
   "cell_type": "code",
   "execution_count": 2,
   "metadata": {},
   "outputs": [],
   "source": [
    "df = pd.read_csv('./combined_0_to_nan_drop.csv')\n",
    "# df = pd.read_csv('./combined_cleaned_no_impute.csv')"
   ]
  },
  {
   "cell_type": "code",
   "execution_count": 3,
   "metadata": {},
   "outputs": [],
   "source": [
    "# replace '/' with '_' in column names\n",
    "df.columns = df.columns.str.replace('/', '_')\n",
    "df.columns = df.columns.str.replace('?', '')"
   ]
  },
  {
   "cell_type": "code",
   "execution_count": 4,
   "metadata": {},
   "outputs": [],
   "source": [
    "df['SDATE'] = pd.to_datetime(df['SDATE'])\n",
    "# sort by date\n",
    "df = df.sort_values(by='SDATE')\n"
   ]
  },
  {
   "cell_type": "code",
   "execution_count": 5,
   "metadata": {},
   "outputs": [],
   "source": [
    "df.to_csv('./combined_0_to_nan_drop.csv', index=False)\n",
    "# df.to_csv('./combined_cleaned_no_impute.csv', index=False)"
   ]
  },
  {
   "cell_type": "code",
   "execution_count": 6,
   "metadata": {},
   "outputs": [
    {
     "data": {
      "text/plain": [
       "Index(['MC', 'STATID', 'SDATE', 'Y', 'M', 'D', 'TEMP_°C', 'pH', 'TSS_mg_L',\n",
       "       'COND_mS_m', 'Ca_meq_L', 'Mg_meq_L', 'Na_meq_L', 'K_meq_L', 'ALK_meq_L',\n",
       "       'Cl_meq_L', 'SO4_meq_L', 'NO32_mg_L', 'NH4N_mg_L', 'TOTP_mg_L',\n",
       "       'DO_mg_L', 'CODMN_mg_L'],\n",
       "      dtype='object')"
      ]
     },
     "execution_count": 6,
     "metadata": {},
     "output_type": "execute_result"
    }
   ],
   "source": [
    "df.columns"
   ]
  },
  {
   "cell_type": "code",
   "execution_count": 7,
   "metadata": {},
   "outputs": [
    {
     "data": {
      "text/plain": [
       "array(['H013101', 'H013801', 'H050104', 'H310102', 'H010501', 'H011901',\n",
       "       'H350101', 'H100101', 'H320101', 'H033402', 'H019801', 'H019806',\n",
       "       'H020102', 'H019802', 'H033401', 'H020101', 'H020103', 'H014901',\n",
       "       'H020106', 'H013401', 'H039801', 'H019803', 'H019805', 'H019804',\n",
       "       'H039803', 'H230103', 'H011200', 'H440202', 'H380104', 'H988115',\n",
       "       'H013900', 'H451303', 'H390105', 'H290103', 'H380128', 'H910108',\n",
       "       'H010500', 'H033403', 'H019807', 'H450101', 'H440103', 'H430102',\n",
       "       'H020108', 'H440102', 'H988114', 'H014501', 'H988316', 'H020107'],\n",
       "      dtype=object)"
      ]
     },
     "execution_count": 7,
     "metadata": {},
     "output_type": "execute_result"
    }
   ],
   "source": [
    "df['STATID'].unique()"
   ]
  },
  {
   "cell_type": "code",
   "execution_count": 8,
   "metadata": {},
   "outputs": [],
   "source": [
    "# split data train and test with 80% and 20% respectively\n",
    "train_size = int(len(df) * 0.8)\n",
    "train = df.iloc[:train_size]\n",
    "\n",
    "test = df.iloc[train_size:]\n",
    "test\n",
    "\n",
    "#save train and test data\n",
    "train.to_csv('../data/combined_0_to_nan_drop/train.csv', index=False)\n",
    "test.to_csv('../data/combined_0_to_nan_drop/test.csv', index=False)"
   ]
  },
  {
   "cell_type": "code",
   "execution_count": 28,
   "metadata": {},
   "outputs": [],
   "source": [
    "sub_df = []\n",
    "for i in df['STATID'].unique():\n",
    "    sub_df.append(df[df['STATID'] == i])"
   ]
  },
  {
   "cell_type": "code",
   "execution_count": 29,
   "metadata": {},
   "outputs": [],
   "source": [
    "for i in range(len(sub_df)):\n",
    "    station_id = sub_df[i]['STATID'].values[0]\n",
    "    sub_df[i].to_csv('../data/combined_0_to_nan_drop/station_data/' + str(station_id) + '.csv', index=False)"
   ]
  },
  {
   "cell_type": "markdown",
   "metadata": {},
   "source": [
    "## Split train and test data for each station and save to train and test folders"
   ]
  },
  {
   "cell_type": "code",
   "execution_count": 30,
   "metadata": {},
   "outputs": [
    {
     "name": "stdout",
     "output_type": "stream",
     "text": [
      "(18, 24)\n",
      "(15, 24)\n",
      "(107, 24)\n",
      "(23, 24)\n",
      "(57, 24)\n",
      "(8, 24)\n",
      "(7, 24)\n",
      "(113, 24)\n",
      "(2, 24)\n",
      "(64, 24)\n",
      "(12, 24)\n",
      "(47, 24)\n",
      "(128, 24)\n",
      "(108, 24)\n",
      "(8, 24)\n",
      "(175, 24)\n",
      "(16, 24)\n",
      "(37, 24)\n",
      "(91, 24)\n",
      "(22, 24)\n",
      "(33, 24)\n",
      "(177, 24)\n",
      "(152, 24)\n",
      "(4, 24)\n",
      "(50, 24)\n",
      "(100, 24)\n",
      "(27, 24)\n",
      "(26, 24)\n",
      "(46, 24)\n",
      "(37, 24)\n",
      "(44, 24)\n",
      "(149, 24)\n",
      "(190, 24)\n",
      "(49, 24)\n",
      "(146, 24)\n",
      "(53, 24)\n",
      "(103, 24)\n",
      "(119, 24)\n",
      "(57, 24)\n",
      "(17, 24)\n",
      "(38, 24)\n",
      "(2, 24)\n",
      "(3, 24)\n",
      "(149, 24)\n",
      "(11, 24)\n",
      "(38, 24)\n",
      "(243, 24)\n",
      "(77, 24)\n",
      "(149, 24)\n",
      "(224, 24)\n",
      "(148, 24)\n",
      "(165, 24)\n",
      "(160, 24)\n",
      "(74, 24)\n",
      "(31, 24)\n",
      "(66, 24)\n",
      "(69, 24)\n",
      "(74, 24)\n",
      "(11, 24)\n",
      "(87, 24)\n",
      "(29, 24)\n",
      "(239, 24)\n",
      "(22, 24)\n",
      "(32, 24)\n",
      "(21, 24)\n",
      "(117, 24)\n",
      "(1, 24)\n",
      "(189, 24)\n",
      "(83, 24)\n",
      "(2, 24)\n",
      "(188, 24)\n",
      "(14, 24)\n",
      "(100, 24)\n",
      "(16, 24)\n",
      "(3, 24)\n",
      "(117, 24)\n",
      "(177, 24)\n",
      "(14, 24)\n",
      "(42, 24)\n",
      "(50, 24)\n",
      "(3, 24)\n",
      "(3, 24)\n",
      "(108, 24)\n",
      "(64, 24)\n",
      "(9, 24)\n",
      "(198, 24)\n",
      "(187, 24)\n",
      "(67, 24)\n",
      "(80, 24)\n",
      "(20, 24)\n",
      "(82, 24)\n",
      "(6, 24)\n",
      "(90, 24)\n",
      "(73, 24)\n",
      "(18, 24)\n",
      "(24, 24)\n",
      "(115, 24)\n",
      "(67, 24)\n",
      "(22, 24)\n",
      "(11, 24)\n",
      "(14, 24)\n",
      "(40, 24)\n",
      "(59, 24)\n",
      "(7, 24)\n",
      "(100, 24)\n",
      "(69, 24)\n",
      "(20, 24)\n",
      "(2, 24)\n",
      "(28, 24)\n",
      "(30, 24)\n",
      "(153, 24)\n",
      "(54, 24)\n",
      "(13, 24)\n",
      "(4, 24)\n",
      "(4, 24)\n",
      "(18, 24)\n",
      "(129, 24)\n",
      "(23, 24)\n",
      "(4, 24)\n",
      "(24, 24)\n",
      "(47, 24)\n",
      "(138, 24)\n",
      "(253, 24)\n"
     ]
    }
   ],
   "source": [
    "import os\n",
    "from sklearn.model_selection import train_test_split\n",
    "import shutil\n",
    "\n",
    "# Assuming you have 48 CSV files for 48 stations in a folder named 'station_data'\n",
    "station_data_folder = '../data/combined_0_to_nan_drop/station_data/'\n",
    "train_folder = '../data/combined_0_to_nan_drop/train'\n",
    "test_folder = '../data/combined_0_to_nan_drop/test'\n",
    "\n",
    "# split data into train and test folders with 80% and 20% data respectively\n",
    "\n",
    "for file in os.listdir(station_data_folder):\n",
    "    if file.endswith('.csv'):\n",
    "        df = pd.read_csv(os.path.join(station_data_folder, file))\n",
    "        # print(df.shape)\n",
    "        train, test = train_test_split(df, test_size=0.2)\n",
    "        train.to_csv(os.path.join(train_folder, file), index=False)\n",
    "        test.to_csv(os.path.join(test_folder, file), index=False)\n"
   ]
  },
  {
   "cell_type": "code",
   "execution_count": null,
   "metadata": {},
   "outputs": [],
   "source": []
  }
 ],
 "metadata": {
  "kernelspec": {
   "display_name": "ds",
   "language": "python",
   "name": "python3"
  },
  "language_info": {
   "codemirror_mode": {
    "name": "ipython",
    "version": 3
   },
   "file_extension": ".py",
   "mimetype": "text/x-python",
   "name": "python",
   "nbconvert_exporter": "python",
   "pygments_lexer": "ipython3",
   "version": "3.10.14"
  }
 },
 "nbformat": 4,
 "nbformat_minor": 2
}
